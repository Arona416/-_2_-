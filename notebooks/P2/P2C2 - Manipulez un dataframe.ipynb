{
  "cells": [
    {
      "cell_type": "markdown",
      "id": "41efa7df",
      "metadata": {
        "id": "41efa7df"
      },
      "source": [
        "![openclassrooms](https://s3.eu-west-1.amazonaws.com/course.oc-static.com/courses/6204541/1+HnqdJ-5ofxiPP9HIxdNdpw.jpeg)\n",
        "\n",
        "# Manipulez un dataframe\n",
        "\n",
        "Nous allons travailler à présent sur notre fichier de prêts immobiliers.\n",
        "\n",
        "Pour expliquer rapidement ce fichier, chaque ligne correspond à un prêt qui a été accordé à un de nos clients. Chaque client est identifié par… son identifiant ! Nous avons les informations suivantes :\n",
        "- la ville et le code postale de l’agence où le client a contracté le prêt\n",
        "- le revenu mensuel du client\n",
        "- les mensualités remboursées par le client\n",
        "- la durée du prêt contracté, en nombre de mois\n",
        "- le type de prêt\n",
        "- et enfin le taux d’intérêt\n",
        "\n",
        "Votre rôle cette fois ci va être de modifier ce jeu de données pour calculer différentes variables nécessaires pour identifier les clients qui sont à la limite de leur capacité de remboursement et déterminer les bénéfices réalisées par la banque.\n"
      ]
    },
    {
      "cell_type": "code",
      "execution_count": null,
      "id": "ec616750",
      "metadata": {
        "id": "ec616750"
      },
      "outputs": [],
      "source": [
        "import numpy as np\n",
        "import pandas as pd"
      ]
    },
    {
      "cell_type": "markdown",
      "id": "64934038",
      "metadata": {
        "id": "64934038"
      },
      "source": [
        "Commençons par importer notre fichier csv. Celui ci sera disponible via un lien, pour faciliter le bon fonctionnement avec Google Colab, mais promis, c'est **le même fichier** que celui que vous pouvez télécharger [sur le lien suivant](https://raw.githubusercontent.com/OpenClassrooms-Student-Center/fr-4452741-decouvrez-les-librairies-python-pour-la-data-science/main/data/prets.csv) *(click droit, enregistrer sous)*"
      ]
    },
    {
      "cell_type": "code",
      "execution_count": null,
      "id": "f8934e5c",
      "metadata": {
        "id": "f8934e5c",
        "outputId": "1462fd51-125e-457d-c314-30cfcc006440"
      },
      "outputs": [
        {
          "data": {
            "text/html": [
              "<div>\n",
              "<style scoped>\n",
              "    .dataframe tbody tr th:only-of-type {\n",
              "        vertical-align: middle;\n",
              "    }\n",
              "\n",
              "    .dataframe tbody tr th {\n",
              "        vertical-align: top;\n",
              "    }\n",
              "\n",
              "    .dataframe thead th {\n",
              "        text-align: right;\n",
              "    }\n",
              "</style>\n",
              "<table border=\"1\" class=\"dataframe\">\n",
              "  <thead>\n",
              "    <tr style=\"text-align: right;\">\n",
              "      <th></th>\n",
              "      <th>identifiant</th>\n",
              "      <th>ville</th>\n",
              "      <th>CP</th>\n",
              "      <th>revenu</th>\n",
              "      <th>remboursement</th>\n",
              "      <th>duree</th>\n",
              "      <th>type</th>\n",
              "      <th>taux</th>\n",
              "    </tr>\n",
              "  </thead>\n",
              "  <tbody>\n",
              "    <tr>\n",
              "      <th>0</th>\n",
              "      <td>0</td>\n",
              "      <td>TOULOUSE</td>\n",
              "      <td>31100</td>\n",
              "      <td>3669.0</td>\n",
              "      <td>1130.05</td>\n",
              "      <td>240</td>\n",
              "      <td>immobilier</td>\n",
              "      <td>1.168</td>\n",
              "    </tr>\n",
              "    <tr>\n",
              "      <th>1</th>\n",
              "      <td>1</td>\n",
              "      <td>PARIS</td>\n",
              "      <td>75009</td>\n",
              "      <td>5310.0</td>\n",
              "      <td>240.00</td>\n",
              "      <td>64</td>\n",
              "      <td>automobile</td>\n",
              "      <td>3.701</td>\n",
              "    </tr>\n",
              "    <tr>\n",
              "      <th>2</th>\n",
              "      <td>1</td>\n",
              "      <td>PARIS</td>\n",
              "      <td>75009</td>\n",
              "      <td>5310.0</td>\n",
              "      <td>1247.85</td>\n",
              "      <td>300</td>\n",
              "      <td>immobilier</td>\n",
              "      <td>1.173</td>\n",
              "    </tr>\n",
              "    <tr>\n",
              "      <th>3</th>\n",
              "      <td>2</td>\n",
              "      <td>MARSEILLE</td>\n",
              "      <td>13010</td>\n",
              "      <td>1873.0</td>\n",
              "      <td>552.54</td>\n",
              "      <td>240</td>\n",
              "      <td>immobilier</td>\n",
              "      <td>0.972</td>\n",
              "    </tr>\n",
              "    <tr>\n",
              "      <th>4</th>\n",
              "      <td>3</td>\n",
              "      <td>MARSEILLE</td>\n",
              "      <td>13010</td>\n",
              "      <td>1684.0</td>\n",
              "      <td>586.03</td>\n",
              "      <td>180</td>\n",
              "      <td>immobilier</td>\n",
              "      <td>1.014</td>\n",
              "    </tr>\n",
              "  </tbody>\n",
              "</table>\n",
              "</div>"
            ],
            "text/plain": [
              "   identifiant      ville     CP  revenu  remboursement  duree        type   \n",
              "0            0   TOULOUSE  31100  3669.0        1130.05    240  immobilier  \\\n",
              "1            1      PARIS  75009  5310.0         240.00     64  automobile   \n",
              "2            1      PARIS  75009  5310.0        1247.85    300  immobilier   \n",
              "3            2  MARSEILLE  13010  1873.0         552.54    240  immobilier   \n",
              "4            3  MARSEILLE  13010  1684.0         586.03    180  immobilier   \n",
              "\n",
              "    taux  \n",
              "0  1.168  \n",
              "1  3.701  \n",
              "2  1.173  \n",
              "3  0.972  \n",
              "4  1.014  "
            ]
          },
          "execution_count": 2,
          "metadata": {},
          "output_type": "execute_result"
        }
      ],
      "source": [
        "prets = pd.read_csv(\"https://raw.githubusercontent.com/OpenClassrooms-Student-Center/fr-4452741-decouvrez-les-librairies-python-pour-la-data-science/main/data/prets.csv\")\n",
        "prets.head()"
      ]
    },
    {
      "cell_type": "markdown",
      "id": "2737bc48",
      "metadata": {
        "id": "2737bc48"
      },
      "source": [
        "Dans un premier temps, créez une nouvelle variable calculant le taux d'endettement de chaque individu. Ce taux correspond au pourcentage du revenu remboursé chaque mois par un individu. Vous arrondirez le résultat à 2 chiffres après la virgule :"
      ]
    },
    {
      "cell_type": "code",
      "execution_count": 2,
      "id": "c03a449a",
      "metadata": {
        "id": "c03a449a",
        "outputId": "907d5ce2-2a11-4450-f257-b29bf6ebf6fd",
        "colab": {
          "base_uri": "https://localhost:8080/",
          "height": 159
        }
      },
      "outputs": [
        {
          "output_type": "error",
          "ename": "NameError",
          "evalue": "name 'prets' is not defined",
          "traceback": [
            "\u001b[0;31m---------------------------------------------------------------------------\u001b[0m",
            "\u001b[0;31mNameError\u001b[0m                                 Traceback (most recent call last)",
            "\u001b[0;32m<ipython-input-2-ee466dda4ed5>\u001b[0m in \u001b[0;36m<cell line: 0>\u001b[0;34m()\u001b[0m\n\u001b[1;32m      1\u001b[0m \u001b[0mvariables\u001b[0m \u001b[0;34m=\u001b[0m \u001b[0;34m[\u001b[0m\u001b[0;34m'ville'\u001b[0m\u001b[0;34m,\u001b[0m \u001b[0;34m'duree'\u001b[0m\u001b[0;34m]\u001b[0m\u001b[0;34m\u001b[0m\u001b[0;34m\u001b[0m\u001b[0m\n\u001b[0;32m----> 2\u001b[0;31m \u001b[0mprets\u001b[0m\u001b[0;34m[\u001b[0m\u001b[0mvariables\u001b[0m\u001b[0;34m]\u001b[0m\u001b[0;34m\u001b[0m\u001b[0;34m\u001b[0m\u001b[0m\n\u001b[0m",
            "\u001b[0;31mNameError\u001b[0m: name 'prets' is not defined"
          ]
        }
      ],
      "source": [
        "variables = ['ville', 'duree']\n",
        "prets[variables]"
      ]
    },
    {
      "cell_type": "markdown",
      "id": "a9affd09",
      "metadata": {
        "id": "a9affd09"
      },
      "source": [
        "Pour éviter toute confusion, renommez la variable `taux` en `taux_interet` :"
      ]
    },
    {
      "cell_type": "code",
      "execution_count": null,
      "id": "3bc0fec9",
      "metadata": {
        "id": "3bc0fec9"
      },
      "outputs": [],
      "source": []
    },
    {
      "cell_type": "markdown",
      "id": "eab0df2b",
      "metadata": {
        "id": "eab0df2b"
      },
      "source": [
        "Le dataframe devrait ressembler à cela :"
      ]
    },
    {
      "cell_type": "code",
      "execution_count": null,
      "id": "b38f14c0",
      "metadata": {
        "id": "b38f14c0"
      },
      "outputs": [],
      "source": [
        "prets.head()"
      ]
    },
    {
      "cell_type": "markdown",
      "id": "1f3074e6",
      "metadata": {
        "id": "1f3074e6"
      },
      "source": [
        "Nous allons à présent créer deux dernières variables :\n",
        "- `cout_total` correspondant au cout total du pret à partir du `remboursement` et de la `duree`\n",
        "- `benefices` correspondant aux **bénéfices mensuels** réalisés par la banque sur le prêt\n",
        "\n",
        "Nous simplifierons ici le calcul des bénéfices par :\n",
        "\n",
        "bénéfices = $\\dfrac{C * T}{24} $\n",
        "\n",
        "avec :\n",
        "- C = cout total du prêt\n",
        "- T = taux d'intérêt"
      ]
    },
    {
      "cell_type": "code",
      "execution_count": null,
      "id": "7dfdb5e8",
      "metadata": {
        "id": "7dfdb5e8"
      },
      "outputs": [],
      "source": []
    },
    {
      "cell_type": "markdown",
      "id": "193e1033",
      "metadata": {
        "id": "193e1033"
      },
      "source": [
        "Vous devriez obtenir les 5 premières lignes suivantes :"
      ]
    },
    {
      "cell_type": "code",
      "execution_count": null,
      "id": "75da3cf4",
      "metadata": {
        "id": "75da3cf4"
      },
      "outputs": [],
      "source": [
        "prets.head()"
      ]
    },
    {
      "cell_type": "markdown",
      "id": "de500ac8",
      "metadata": {
        "id": "de500ac8"
      },
      "source": [
        "A présent, nous souhaitons connaitre les 5 prêts sur lesquels nous produisons le plus de bénéfices. Mettez en place une solution pour les afficher :"
      ]
    },
    {
      "cell_type": "code",
      "execution_count": null,
      "id": "6dd503c9",
      "metadata": {
        "id": "6dd503c9"
      },
      "outputs": [],
      "source": []
    },
    {
      "cell_type": "markdown",
      "id": "a5b9ef91",
      "metadata": {
        "id": "a5b9ef91"
      },
      "source": [
        "Beau travail ! Que diriez vous à présent de comparez vos réponses [avec la correction](https://colab.research.google.com/github/OpenClassrooms-Student-Center/fr-4452741-decouvrez-les-librairies-python-pour-la-data-science/blob/main/notebooks/P2/P2C2%20-%20Manipulez%20un%20dataframe%20-%20correction.ipynb) ?"
      ]
    },
    {
      "cell_type": "code",
      "execution_count": null,
      "id": "856c47e0",
      "metadata": {
        "id": "856c47e0"
      },
      "outputs": [],
      "source": []
    }
  ],
  "metadata": {
    "kernelspec": {
      "display_name": "Python 3 (ipykernel)",
      "language": "python",
      "name": "python3"
    },
    "language_info": {
      "codemirror_mode": {
        "name": "ipython",
        "version": 3
      },
      "file_extension": ".py",
      "mimetype": "text/x-python",
      "name": "python",
      "nbconvert_exporter": "python",
      "pygments_lexer": "ipython3",
      "version": "3.9.13"
    },
    "colab": {
      "provenance": []
    }
  },
  "nbformat": 4,
  "nbformat_minor": 5
}